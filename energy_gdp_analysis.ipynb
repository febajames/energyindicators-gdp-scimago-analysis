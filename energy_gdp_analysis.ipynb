{
 "cells": [
  {
   "cell_type": "code",
   "execution_count": 2,
   "metadata": {},
   "outputs": [
    {
     "name": "stdout",
     "output_type": "stream",
     "text": [
      "           Energy Supply  Energy Supply per Capita  % Renewable          2006  \\\n",
      "Country                                                                         \n",
      "Australia   5.386000e+09                     231.0     11.81081  1.021939e+12   \n",
      "Brazil      1.214900e+10                      59.0     69.64803  1.845080e+12   \n",
      "Canada      1.043100e+10                     296.0     61.94543  1.564469e+12   \n",
      "China       1.271910e+11                      93.0     19.75491  3.992331e+12   \n",
      "France      1.059700e+10                     166.0     17.02028  2.607840e+12   \n",
      "\n",
      "                   2007          2008          2009          2010  \\\n",
      "Country                                                             \n",
      "Australia  1.060340e+12  1.099644e+12  1.119654e+12  1.142251e+12   \n",
      "Brazil     1.957118e+12  2.056809e+12  2.054215e+12  2.208872e+12   \n",
      "Canada     1.596740e+12  1.612713e+12  1.565145e+12  1.613406e+12   \n",
      "China      4.559041e+12  4.997775e+12  5.459247e+12  6.039659e+12   \n",
      "France     2.669424e+12  2.674637e+12  2.595967e+12  2.646995e+12   \n",
      "\n",
      "                   2011          2012          2013          2014  \\\n",
      "Country                                                             \n",
      "Australia  1.169431e+12  1.211913e+12  1.241484e+12  1.272520e+12   \n",
      "Brazil     2.295245e+12  2.339209e+12  2.409740e+12  2.412231e+12   \n",
      "Canada     1.664087e+12  1.693133e+12  1.730688e+12  1.773486e+12   \n",
      "China      6.612490e+12  7.124978e+12  7.672448e+12  8.230121e+12   \n",
      "France     2.702032e+12  2.706968e+12  2.722567e+12  2.729632e+12   \n",
      "\n",
      "                   2015  Rank  Documents  Citable documents  Citations  \\\n",
      "Country                                                                  \n",
      "Australia  1.301251e+12    14       8831               8725      90765   \n",
      "Brazil     2.319423e+12    15       8668               8596      60702   \n",
      "Canada     1.792609e+12     6      17899              17620     215003   \n",
      "China      8.797999e+12     1     127050             126767     597237   \n",
      "France     2.761185e+12     9      13153              12973     130632   \n",
      "\n",
      "           Self-citations  Citations per document  H index  \n",
      "Country                                                     \n",
      "Australia           15606                   10.28      107  \n",
      "Brazil              14396                    7.00       86  \n",
      "Canada              40930                   12.01      149  \n",
      "China              411683                    4.70      138  \n",
      "France              28601                    9.93      114  \n"
     ]
    }
   ],
   "source": [
    "# Analysis on energy indicators,gdp and scimago journal & country rank datas\n",
    "\n",
    "# import packages\n",
    "import pandas as pd\n",
    "import numpy as np\n",
    "import re\n",
    "\n",
    "# read data\n",
    "energy = pd.read_excel('Energy Indicators.xls',skiprows=17,skipfooter=38,usecols=[2,3,4,5]).rename(columns={'Unnamed: 2':'Country','Petajoules':'Energy Supply','Gigajoules':'Energy Supply per Capita','%':'% Renewable'})\n",
    "energy.replace({'...': np.nan},inplace=True)\n",
    "energy['Energy Supply'] *= (10 ** 6)\n",
    "sel = []\n",
    "for country in energy['Country']:\n",
    "    sel.append(re.sub('\\d+|\\(.*','',country).strip())\n",
    "energy['Country'] = sel\n",
    "energy.replace({'Country':{'Republic of Korea':'South Korea',\n",
    "                          'United States of America':'United States',\n",
    "                            'United Kingdom of Great Britain and Northern Ireland':'United Kingdom',\n",
    "                            'China, Hong Kong Special Administrative Region':'Hong Kong'}},inplace=True)\n",
    "    \n",
    "GDP = pd.read_csv('world_bank.csv',skiprows=4)\n",
    "GDP.rename(columns={'Country Name':'Country'},inplace=True)\n",
    "GDP.drop(['Indicator Name','Indicator Code'],axis=1,inplace=True)\n",
    "GDP.replace({'Country':{'Korea, Rep.':'South Korea',\n",
    "                        'Iran, Islamic Rep.':'Iran',\n",
    "                        'Hong Kong SAR, China':'Hong Kong'}},inplace=True)\n",
    "     \n",
    "ScimEn = pd.read_excel('scimagojr-3.xlsx')\n",
    "    \n",
    "data1 = pd.merge(energy,GDP,on='Country',how='inner')\n",
    "data2 = pd.merge(data1,ScimEn,on='Country',how='inner')\n",
    "  \n",
    "Top15 = data2[data2['Rank'].isin([r for r in range(1,16)])]\n",
    "Top15 = Top15.loc[:,[c for c in Top15.columns if (c.isdigit() and int(c)>=2006) or (not c.isdigit())]]\n",
    "del Top15['Country Code']\n",
    "Top15.set_index('Country',inplace=True)\n",
    "print(Top15.head())"
   ]
  },
  {
   "cell_type": "code",
   "execution_count": 3,
   "metadata": {},
   "outputs": [
    {
     "name": "stdout",
     "output_type": "stream",
     "text": [
      "Country\n",
      "United States         1.536434e+13\n",
      "China                 6.348609e+12\n",
      "Japan                 5.542208e+12\n",
      "Germany               3.493025e+12\n",
      "France                2.681725e+12\n",
      "United Kingdom        2.487907e+12\n",
      "Brazil                2.189794e+12\n",
      "Italy                 2.120175e+12\n",
      "India                 1.769297e+12\n",
      "Canada                1.660647e+12\n",
      "Russian Federation    1.565459e+12\n",
      "Spain                 1.418078e+12\n",
      "Australia             1.164043e+12\n",
      "South Korea           1.106715e+12\n",
      "Iran                  4.441558e+11\n",
      "Name: avgGDP, dtype: float64\n"
     ]
    }
   ],
   "source": [
    "# average GDP over the last 10 years for each country\n",
    "avgGDP1 = Top15.loc[:,[c for c in Top15.columns if c.isdigit() and int(c)>=2006]]\n",
    "avgGDP1['avgGDP'] = avgGDP1.mean(axis=1,skipna=True)\n",
    "avgGDP1.sort_values('avgGDP',ascending=False,inplace=True)\n",
    "print(avgGDP1['avgGDP'])"
   ]
  },
  {
   "cell_type": "code",
   "execution_count": 4,
   "metadata": {},
   "outputs": [
    {
     "name": "stdout",
     "output_type": "stream",
     "text": [
      "246702696075.3999\n"
     ]
    }
   ],
   "source": [
    "# by how much had the GDP changed over the 10 year span for the country with say, the 6th largest average GDP\n",
    "avgGDP = Top15.loc[:,[c for c in Top15.columns if c.isdigit() and int(c)>=2006]]\n",
    "avgGDP = avgGDP.mean(axis=1)\n",
    "print(Top15.loc[avgGDP.nlargest(6).idxmin(),'2015'] - Top15.loc[avgGDP.nlargest(6).idxmin(),'2006'])"
   ]
  },
  {
   "cell_type": "code",
   "execution_count": 5,
   "metadata": {},
   "outputs": [
    {
     "name": "stdout",
     "output_type": "stream",
     "text": [
      "157.6\n"
     ]
    }
   ],
   "source": [
    "# mean Energy Supply per Capita\n",
    "print(Top15['Energy Supply per Capita'].mean())"
   ]
  },
  {
   "cell_type": "code",
   "execution_count": 8,
   "metadata": {},
   "outputs": [
    {
     "name": "stdout",
     "output_type": "stream",
     "text": [
      "Brazil 69.64803\n"
     ]
    }
   ],
   "source": [
    "# country that has the maximum % Renewable and the value\n",
    "print(Top15['% Renewable'].idxmax(),Top15['% Renewable'].max())"
   ]
  },
  {
   "cell_type": "code",
   "execution_count": 9,
   "metadata": {},
   "outputs": [
    {
     "name": "stdout",
     "output_type": "stream",
     "text": [
      "China 0.6893126179389422\n"
     ]
    }
   ],
   "source": [
    "# maximum ratio value of selef-citations to citations and country with the highest ratio\n",
    "Top15['Ratio'] = Top15['Self-citations'].div(Top15['Citations'])\n",
    "print(Top15['Ratio'].idxmax(),Top15['Ratio'].max())"
   ]
  },
  {
   "cell_type": "code",
   "execution_count": 10,
   "metadata": {},
   "outputs": [
    {
     "name": "stdout",
     "output_type": "stream",
     "text": [
      "United States\n"
     ]
    }
   ],
   "source": [
    "# third most populous country\n",
    "Top15['Pop Estimate'] = Top15['Energy Supply'].div(Top15['Energy Supply per Capita'])\n",
    "print(Top15['Pop Estimate'].nlargest(3).idxmin())"
   ]
  },
  {
   "cell_type": "code",
   "execution_count": 11,
   "metadata": {},
   "outputs": [
    {
     "name": "stdout",
     "output_type": "stream",
     "text": [
      "0.7940010435442942\n"
     ]
    }
   ],
   "source": [
    "# correlation between the number of citable documents per capita and the energy supply per capita?\n",
    "Top15['Citable documents per person'] = Top15['Citable documents'].div(Top15['Pop Estimate'])\n",
    "print(Top15['Citable documents per person'].corr(Top15['Energy Supply per Capita']))"
   ]
  },
  {
   "cell_type": "code",
   "execution_count": 16,
   "metadata": {},
   "outputs": [
    {
     "data": {
      "text/plain": [
       "<matplotlib.axes._subplots.AxesSubplot at 0x24f77b2cba8>"
      ]
     },
     "execution_count": 16,
     "metadata": {},
     "output_type": "execute_result"
    },
    {
     "data": {
      "image/png": "[encoded data removed]",
      "text/plain": [
       "<Figure size 432x288 with 1 Axes>"
      ]
     },
     "metadata": {
      "needs_background": "light"
     },
     "output_type": "display_data"
    }
   ],
   "source": [
    "import matplotlib as plt\n",
    "%matplotlib inline\n",
    "    \n",
    "Top15.plot(x='Citable documents per person', y='Energy Supply per Capita', kind='scatter', xlim=[0, 0.0006])"
   ]
  },
  {
   "cell_type": "code",
   "execution_count": 12,
   "metadata": {},
   "outputs": [
    {
     "name": "stdout",
     "output_type": "stream",
     "text": [
      "Country\n",
      "China                 1\n",
      "United States         0\n",
      "Japan                 0\n",
      "United Kingdom        0\n",
      "Russian Federation    1\n",
      "Canada                1\n",
      "Germany               1\n",
      "India                 0\n",
      "France                1\n",
      "South Korea           0\n",
      "Italy                 1\n",
      "Spain                 1\n",
      "Iran                  0\n",
      "Australia             0\n",
      "Brazil                1\n",
      "Name: HighRenew, dtype: int64\n"
     ]
    }
   ],
   "source": [
    "# create a new column with a 1 if the country's % Renewable value is at or above the median for all countries in the top 15, \n",
    "# and a 0 if the country's % Renewable value is below the median.\n",
    "d = {False:0,True:1}\n",
    "Top15['HighRenew'] = Top15['% Renewable'] >= Top15['% Renewable'].median()\n",
    "Top15['HighRenew'] = Top15['HighRenew'].map(d)\n",
    "Top15.sort_values('Rank',inplace=True)\n",
    "print(Top15['HighRenew'])"
   ]
  },
  {
   "cell_type": "code",
   "execution_count": 13,
   "metadata": {},
   "outputs": [
    {
     "name": "stdout",
     "output_type": "stream",
     "text": [
      "               size           sum          mean           std\n",
      "Continent                                                    \n",
      "Europe          6.0  4.579297e+08  7.632161e+07  3.162885e+07\n",
      "Asia            5.0  2.898666e+09  5.797333e+08  6.074036e+08\n",
      "North America   2.0  3.528552e+08  1.764276e+08  1.411878e+08\n",
      "South America   1.0  2.059153e+08  2.059153e+08  0.000000e+00\n",
      "Australia       1.0  2.331602e+07  2.331602e+07  0.000000e+00\n"
     ]
    }
   ],
   "source": [
    "# create dictionary to group the Countries by Continent, then display the sample size (the number of countries in each \n",
    "# continent bin), and the sum, mean, and std deviation for the estimated population of each country.\n",
    "ContinentDict = {'China':'Asia', \n",
    "                'United States':'North America', \n",
    "                'Japan':'Asia', \n",
    "                'United Kingdom':'Europe', \n",
    "                'Russian Federation':'Europe', \n",
    "                'Canada':'North America', \n",
    "                'Germany':'Europe', \n",
    "                'India':'Asia',\n",
    "                'France':'Europe', \n",
    "                'South Korea':'Asia', \n",
    "                'Italy':'Europe', \n",
    "                'Spain':'Europe', \n",
    "                'Iran':'Asia',\n",
    "                'Australia':'Australia', \n",
    "                'Brazil':'South America'}\n",
    "Top15['Continent'] = Top15.index.to_series().map(ContinentDict)\n",
    "Top15['PopEst'] = Top15['Energy Supply'] / Top15['Energy Supply per Capita']\n",
    "a = Top15['Continent'].value_counts().rename('size')\n",
    "b = Top15.groupby('Continent')['PopEst'].sum().rename('sum')\n",
    "c = Top15.groupby('Continent')['PopEst'].apply(np.mean).rename('mean')\n",
    "d = Top15.groupby('Continent')['PopEst'].apply(np.std).rename('std')\n",
    "df = pd.DataFrame([a,b,c,d]).T\n",
    "df.index.name = 'Continent'\n",
    "print(df)"
   ]
  },
  {
   "cell_type": "code",
   "execution_count": 14,
   "metadata": {},
   "outputs": [
    {
     "name": "stdout",
     "output_type": "stream",
     "text": [
      "Continent      % Renewable     \n",
      "Asia           (2.212, 15.753]     4\n",
      "               (15.753, 29.227]    1\n",
      "Australia      (2.212, 15.753]     1\n",
      "Europe         (2.212, 15.753]     1\n",
      "               (15.753, 29.227]    3\n",
      "               (29.227, 42.701]    2\n",
      "North America  (2.212, 15.753]     1\n",
      "               (56.174, 69.648]    1\n",
      "South America  (56.174, 69.648]    1\n",
      "Name: Country, dtype: int64\n"
     ]
    }
   ],
   "source": [
    "# cut % Renewable into 5 bins. group Top15 by the Continent and % Renewable bins; how many countries are in each group\n",
    "Top15.reset_index(inplace=True)\n",
    "Top15['% Renewable'] = pd.cut(Top15['% Renewable'],5)\n",
    "print(Top15.groupby(['Continent','% Renewable'])['Country'].count())"
   ]
  },
  {
   "cell_type": "code",
   "execution_count": null,
   "metadata": {},
   "outputs": [],
   "source": [
    "\n"
   ]
  }
 ],
 "metadata": {
  "kernelspec": {
   "display_name": "Python 3",
   "language": "python",
   "name": "python3"
  },
  "language_info": {
   "codemirror_mode": {
    "name": "ipython",
    "version": 3
   },
   "file_extension": ".py",
   "mimetype": "text/x-python",
   "name": "python",
   "nbconvert_exporter": "python",
   "pygments_lexer": "ipython3",
   "version": "3.7.1"
  }
 },
 "nbformat": 4,
 "nbformat_minor": 2
}
